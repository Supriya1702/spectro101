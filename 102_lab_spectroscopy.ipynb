{
  "cells": [
    {
      "cell_type": "markdown",
      "source": [
        "# Lab Spectroscopy\n",
        "\n",
        "---\n",
        "\n",
        "By analyzing the spectrum emitted or absorbed by a sample gas, it is possible to characterize it  **qualitatively** (which species are in there) and **quantitatively** (which concentrations, or at which temperature). This is called spectroscopy.\n",
        "\n",
        "The measurements achieved through spectroscopy can be achieved from afar, without disturbing the measured object. Therefore, it's an excellent tool to probe objects such as combustion flames, plasmas (ionized hot gas), or distant atmospheres.\n",
        "\n",
        "In this chapter, we'll focus on in-the-lab experiment, and introduce various concepts important for experimentalists.\n",
        "\n",
        "## Energy Transition \n",
        "\n",
        "There are different types of spectroscopy: **emission** spectroscopy, **absorption** spectroscopy, or **diffusion** spectroscopy. Diffusion spectroscopy will not be taught here. \n",
        "\n",
        "In emission and absorption spectroscopy, the emission or absorption of a photon corresponds to a change in the molecule. One should see each molecule as having different internal energy levels, whose numbers and energies can be derived by quantum physics calculation. If a molecule in the lowest energy level, called the **ground state**, receives a photon whose energy matches the energy of a higher level of the molecule, called an **excited state**, then the molecule may absorb the photon and become excited. This is absorption spectroscopy. \n",
        "\n",
        "Similarly, a molecule in an excited state, may spontaneously deexcite to the ground state, and emit a photon of the corresponding energy. If the ground state has energy $E_1$ and the excited state has energy $E_2$, then the photon wavelength $\\lambda$ is related to the energies with the relation: \n",
        "\n",
        "$$\\frac{h\\cdot c}{\\lambda} = E_2 - E_1$$\n",
        "\n",
        "where $h$ is called the Planck's constant and $c$ is the speed-of-light.\n",
        "\n",
        "![excitement](pic/excitation.PNG)\n",
        "\n",
        "> QUESTION : if a transition is possible with absorption spectroscopy, is it possible with emission spectroscopy ?  \n",
        "\n",
        "\n",
        "## Units\n",
        "\n",
        "\n",
        "The wavelength (or wavenumber/frequency) of the light is characteristic of the molecule. By convenience, infrared spectroscopists usually use wavenumbers, expressed in $cm^{-1}$, to label the position on a spectrum, but also to write down energies such as $E_1$ and $E_2$ in the equation above. Visible spectroscopists typically use $nm$, while chemists computing energy potential may use electron-volt ($eV$), a unit of energy. Energies (in $J$, $eV$), wavelengths (in $nm$, $Angstrom$, etc.), wavenumbers (in $cm^{-1}$), frequencies ($GHz$) or even temperature units ($K$) are regularly used and interchanged in spectroscopy, depending on the scientific community or the spectral region used. Although this may be confusing at the start, it brings a lot of convenience in the later calculations. \n",
        "\n",
        "\n",
        "\n",
        "## Emission and absorption spectroscopy\n",
        "\n",
        "In all cases, we probe specific wavelengths or wavenumbers (frequency) of the light. This can be done by the mean of a spectrometer, an equipment that diffracts light. \n",
        "\n",
        "In emission spectroscopy, the gas is the light source: we collect the photons *emitted by the gas*, which correspond to de-excitations of excited molecules. In absorption spectroscopy, we feed an external light source into the probed object, which absorbs part of it, and we collect the remaining, transmitted light: the ratio between the transmitted and incident light corresponds can be related to qualitative and quantitative properties of the gas. \n",
        "\n",
        "\n",
        "The difference between emission and absorption spectroscopy is very important: in *emission spectroscopy*, information is collected from the **excited molecules**. Therefore, qualitative (which species) and quantitative (which mole fractions) measurements correspond to the excited species. Usually, excited species are only a fraction of the total species in the sample gas. Most of the gas usually remains in its ground state: to derive information on the ground state from emission spectroscopy requires extra hypothesis or models, such as the knowledge of kinetic mechanisms. In *absorption spectroscopy*, we directly acquire information on molecules in their **ground state**: we have a direct access to their concentration, or to their temperature, without the need of extra hypothesis or models.\n",
        "\n",
        "**Conclusion**: Absorption spectroscopy is usually harder to set up because one needs an appropriate light source, but it yields directly results on the main component of the gas; whereas emission spectroscopy is easier to set up experimentally, but it only yields information on the excited molecules in the gas.    "
      ],
      "metadata": {
        "collapsed": false
      }
    },
    {
      "cell_type": "markdown",
      "source": [
        "## Experimental setup\n",
        "\n",
        "#### Typical experimental setup for in-the-lab emission spectroscopy\n",
        "\n",
        "![emission](pic/emission.png)\n",
        "\n",
        "Note the main elements:\n",
        "- spectrometer and CCD\n",
        "- a diaphgram to control the intensity\n",
        "\n",
        "#### Typical experimental setup for in-the-lab absorption spectroscopy \n",
        "\n",
        "Here we study an air plasma : \n",
        "\n",
        "![absorption](pic/absorption.png)\n",
        "\n",
        "Note the main elements:\n",
        "- the light source\n",
        "- the spectrometer and CCD\n",
        "- a diaphraghm to control the spatial resolution \n",
        "\n",
        "\n",
        "Below is an example of the emission spectrum of an air plasma collected with an *OceanOptics Maya2000 Pro* spectrometer (*spectrum provided from a Spectroscopy Lab at CentraleSupélec, Paris-Saclay*).\n",
        "\n",
        "![Air plasma emission spectrum](pic/plasma_air.png)\n",
        "\n"
      ],
      "metadata": {
        "collapsed": false
      }
    },
    {
      "cell_type": "markdown",
      "source": [
        "# Interpretation of a spectrum\n",
        "\n",
        "---\n",
        "\n",
        "## Identify species\n",
        "\n",
        "To identify which species correspond to which lines, one can refer to databases such as the [NIST Atomic Spectral Database](http://www.nist.gov/pml/data/asd.cfm) or the [NIST Diatomic Spectral Database ](http://www.nist.gov/pml/data/msd-di/). We can also calculate the real spectra with software like [Specair](http://www.specair-radiation.net/) (UV/VIS spectra) or [LIFBASE](https://www.sri.com/engage/products-solutions/lifbase) (UV/VIS and laser induced spectra) or [RADIS](http://radis.github.io/) (infrared spectra).\n",
        "\n",
        "On the other hand, it is quite easy to immediately identify whether a line corresponds to a **molecular** or an **atomic** transition. Indeed, the wavelengths at which the photons are emitted correspond to the energy difference between the excited level and the fundamental level. In an atom, these energy levels correspond to the different **electronic layers** and are relatively well separated. We remember for example Rydberg's formula for Hydrogen:\n",
        "\n",
        "$$ \\frac {1} {\\lambda} = R (\\frac {1} {n'' ^ 2} - \\frac {1} {n'^ 2}) $$\n",
        "\n",
        "![hydrogen](https://upload.wikimedia.org/wikipedia/commons/thumb/b/b2/Hydrogen_transitions.svg/600px-Hydrogen_transitions.svg.png)\n",
        "\n",
        "For a molecule, there are other modes of excitation than the **electronic levels**: a molecule can be excited in a **vibrational**, or **rotational** way, therefore its energy is a sum of these three terms:\n",
        "\n",
        "$$ E (e, v, J) ​​= T_e + G (v) + F (J) $$\n",
        "\n",
        "where *e*, *v*, *J* correspond to the electronic, vibrational, and rotational levels, respectively. However, these energies do not all have the same orders of magnitude:\n",
        "\n",
        "$$ T_e >> G (v) >> F (J) $$\n",
        "\n",
        "Consequently, the **lines** corresponding to transitions for $ e '\\rightarrow e' '$ and $ v' \\rightarrow v '' $ fixed but for all the possible $ J '\\rightarrow J' '$ are found at very close wavelengths. They constitute the **vibrational band** $ (v ', v' ') $. Likewise, the vibrational bands corresponding to a fixed $ e '\\rightarrow e' '$ form a **electronic system** clearly differentiable from atomic lines. To visualize this, a typical atomic spectrum and a typical molecular spectrum can be found below.\n",
        "\n",
        "#### Atomic transition\n",
        "\n",
        "Atomic oxygen spectrum: transition $ 2s ^ 2 2p ^ 3 3p ^ 1 \\rightarrow 2s ^ 2 2p ^ 3 3s ^ 1 $ (theoretical spectrum simulated with Specair, and spectrum as it would be observed by an Acton SpectraPro spectrometer 2500i)\n",
        "\n",
        "![O emission spectrum](pic/O_emission_spectrum.png)\n",
        "\n",
        "#### Molecular transition\n",
        "\n",
        "Molecular nitrogen spectrum: Part of the electronic system $ N_2 (C ^ 3 \\Pi_u) \\rightarrow N_2 (B ^ 3 \\Pi_g $) (theoretical spectrum simulated with Specair, and spectrum as it would be observed by a spectrometer Acton SpectraPro 2500i)\n",
        "\n",
        "![N2 emission spectrum](pic/N2_emission_spectrum.png)\n",
        "\n",
        "The precise meaning of $ C ^ 3 \\Pi_u $ and $ B ^ 3 \\Pi_g $ is beyond the scope of this complement. We will remember that $ B $ and $ C $ are arbitrary names given at the electronic levels, just as we number $ 1, 2, 3 ... $ the different electronic layers of atoms. $ ^ 3 \\Pi_u $ or $ ^ 3 \\Pi_g $ correspond to the physical description of the electronic level, and contain information on its ** spin **, its **orbital angular momentum**, and **symmetry** or **parity** properties. More spectroscopy elements will be provided in later chapters."
      ],
      "metadata": {
        "collapsed": false
      }
    },
    {
      "cell_type": "markdown",
      "source": [
        "## Instrumental broadening\n",
        "\n",
        "In the previous spectra, we observed that the measured spectrum was wider than the theoretical spectrum. In fact, we are limited by the spectral resolution of our system. The measured spectrum is the convolution of the real spectrum and of what is called the **instrumental slit function**, which corresponds to the experimental widening induced by our system (it depends mainly on the spectrometer).\n",
        "\n",
        "Slit function of an Acton SpectraPro 2500i with an entry slit of 50 µm.\n",
        "\n",
        "![slit function](pic/slit_function.png)\n",
        "\n",
        "\n",
        "> QUESTION: How can we easily measure the slit function and thus know the spectral resolution of our system? *\n"
      ],
      "metadata": {
        "collapsed": false
      }
    },
    {
      "cell_type": "markdown",
      "source": [
        "## Quantification and calibration in emission spectroscopy\n",
        "\n",
        "Until now, we were mainly interested in studying which wavelengths were emitted, to infer which species were present in the gas. We will now focus on the intensity measured in emission spectroscopy: this will provide the actual number density of the emitting species.\n",
        "\n",
        "The spectral radiance emitted by the de-excitation from state $ 2 $ to state $ 1 $ is as follows:\n",
        "\n",
        "$$I(\\lambda) = \\frac{n_2 \\cdot A_{21} \\cdot \\Delta E$$\n"}{4 \\pi} \\cdot \\Phi(\\lambda)),
        "\n",
        "These parameters are:\n",
        "\n",
        "- $ I $: the spectral radiance (in $ W.cm^{-3}.sr^{-1} $).\n",
        "\n",
        "- $ n_2 $: the number of molecules in the excited state (in $ cm^{-3} $): the more molecules are excited, the more deexcitation there is.\n",
        "\n",
        "- $ A_{21} $ is a probability of de-excitation (in $ s^{-1} $). It is named the Einstein emission coefficient. Its value is unique for each transition. Einstein coefficients are either measured experimentally with in-the-lab experiments, or can be computed from another parameter called the **transition dipole moment**, which itself can be calculated from *ab initio* quantum calculations. Einstein coefficients are often tabulated and available in databases.\n",
        "\n",
        "- $ \\Delta_E = E_2 - E_1 $ (in $ J $): the product of the two previous terms yields the number of photons emitted. We must multiply by the energy contained in each photon, which is the energy difference of the two levels.\n",
        "\n",
        "- $ \\Phi $ (unitless) is a broadening term representing the contribution of the total emission at the wavelength $ \\lambda$. It will be explained further later.\n",
        "\n",
        "From the previous formula, we can then derive the population $ n_2 $ from the measured radiance. The radiance measured at the CCD (expressed in arbitrary units, `a.u.`) is a fraction of the total radiance emitted in all directions:\n",
        "\n",
        "$$ I_{measured}(\\lambda) = \\kappa(\\lambda) \\cdot I(\\lambda) $$\n",
        "\n",
        "where $ \\ kappa $ contains both the optical efficiency (lens transmissivity, camera gain, etc.) of all the optical systems (which depend on the wavelength) and the solid angle under which we observe the object. We can therefore break it down as follows:\n",
        "\n",
        "$$ \\kappa = \\eta (\\lambda) \\cdot \\Omega} $$\n",
        "\n",
        "where $ \\eta $ is the optical efficiency, and $ \\Omega $ is the solid angle.\n",
        "\n",
        "In practice, for in-the-lab emission experiments, we perform an **intensity calibration**: we replace the gas studied by a source of known radiance (for example a Tungsten lamp or known temperature, whose emission is that of a black body, i.e., which follows [Planck's law](https://radis.readthedocs.io/en/latest/auto_examples/plot_blackbody.html)): the ratio between the theoretical intensity emitted by the known source (for instance in `W/cm^2/sr/nm` and the measured intensity (in `a.u.`) will give us the wavelength correction coefficient $ \\ eta $ for the given solid angle ${\\Omega}$."
      ],
      "metadata": {
        "collapsed": false
      }
    },
    {
      "cell_type": "markdown",
      "source": [
        "## Line broadening\n",
        "\n",
        "According to the first equation of this chapter, $\\frac{h\\cdot c}{\\lambda} = E_2 - E_1$, a line transition should have a wavelength corresponding to the exact energy difference between two levels (we talk about a **monochromatic** emission). However, if one observes an experimental spectrum, the transition is not a perfect line but has a width. As we've just seen, this is partly due to the broadening of the instrument. However, even with a perfect instrument, we would still measure a non-zero width. This is called the **lineshape broadening**.\n",
        "\n",
        "The notion of lineshape broadening is very important in spectroscopy and will be discussed in further chapters. We'll only give a small introduction here:  a line corresponding to a given transition is never monochromatic, even though the quantification of energy levels in quantum physics should impose it. The theoretical broadening is in fact the sum of several factors:\n",
        "\n",
        "- **natural broadening** results from Heisenberg's principle. Both the energy and the time of an event cannot be known with perfect accuracy: $ \\Delta E \\cdot \\Delta t $ has a minimum value. As a transition occurs in a given (very short) time, $ \\Delta t \\ $ is low, therefore $ \\Delta E \\ $ itself is non-zero, which means that the transition cannot be monochromatic. This is a pure quantum effect, which in fact is usually negligible compared to other broadening sources.\n",
        "\n",
        "- **Doppler broadening**, which depends on the (translational) temperature of the gas: all the speed of a vehicle alters the frequency of the sound signal received by a fixed observer, a molecule which has more or less energy kinetics (translational) will emit photons with a slightly different frequency (or wavelength).\n",
        "\n",
        "Finally, the emitting molecule is not isolated and is influenced by its environment:\n",
        "\n",
        "- **collisional broadening** results from a collision with other species: the emission/absorption process is not instantaneous, and the emitted/absorbed photon energy oscillates before reaching the average value of $ E_2 - E_1 $. If a collision happens during this time, the photon may have a slightly higher or lower energy (and the colliding partner may leave with less or more kinetic energy). This broadening factor is linked to the number of collisions, and therefore it is linked to the pressure, the temperature, and the nature of the colliding partner. It is sometimes separated into *resonant* broadening (due to other species of the same kind) and Van der Walls broadening (other atoms and molecules).\n",
        "\n",
        "- **Stark broadening** is induced by the presence of free electrons around the molecule. It is particularly prevalent for the spectrum of hydrogen atoms.\n",
        "\n",
        "The notion of broadening is particularly useful in spectroscopy: by measuring the total broadening, and on condition that our experimental enlargement is sufficiently low, we can have access to certain parameters, such as the *temperature of the gas* or the *electron density* in a plasma.\n",
        "\n",
        "\n",
        "---"
      ],
      "metadata": {
        "collapsed": false
      }
    },
    {
      "cell_type": "markdown",
      "source": [
        "# Your turn\n",
        "\n",
        "*Some exercices with experimental spectra*\n",
        "\n",
        "#### Exercice 1 : plot the spectrum\n",
        "\n",
        "Use Numpy and Matplotlib to plot the spectrometer data below : "
      ],
      "metadata": {
        "collapsed": false
      }
    },
    {
      "cell_type": "code",
      "source": [
        "# Start by initializing Python\n",
        "# We'll use Numpy for scientific calculation, Scipy for optimizations and statistical analysis, Matplotlib to plot graphs. \n",
        "import numpy as np\n",
        "import matplotlib.pyplot as plt \n",
        "\n",
        "%matplotlib inline \n",
        "# Initialize to show images within the notebook"
      ],
      "outputs": [],
      "execution_count": 1,
      "metadata": {
        "collapsed": false,
        "execution": {
          "iopub.status.busy": "2021-03-28T12:27:25.226Z",
          "iopub.execute_input": "2021-03-28T12:27:25.232Z",
          "shell.execute_reply": "2021-03-28T12:27:26.096Z",
          "iopub.status.idle": "2021-03-28T12:27:26.103Z"
        }
      }
    },
    {
      "cell_type": "markdown",
      "source": [
        "Let's import spectrometer data now : "
      ],
      "metadata": {
        "collapsed": false
      }
    },
    {
      "cell_type": "code",
      "source": [
        "# Tous \n",
        "a = np.loadtxt('data/maya_spectrum.txt')  # This example file is stored in folder /data\n",
        "(w,I) = a.transpose()\n",
        "plt.figure()\n",
        "plt.plot(w,I)\n",
        "plt.title('Air plasma in spark regime')\n",
        "plt.xlabel('Wavelength (nm)')\n",
        "plt.ylabel('Luminescence (a.u)') # Always have titles in your graphs!\n",
        "\n",
        "# Zoom over 300-1100 nm\n",
        "plt.xlim((300,1100))"
      ],
      "outputs": [
        {
          "output_type": "execute_result",
          "execution_count": 2,
          "data": {
            "text/plain": "(300.0, 1100.0)"
          },
          "metadata": {}
        },
        {
          "output_type": "display_data",
          "data": {
            "text/plain": "<Figure size 432x288 with 1 Axes>",
            "image/png": "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\n"
          },
          "metadata": {
            "needs_background": "light"
          }
        }
      ],
      "execution_count": 2,
      "metadata": {
        "collapsed": false,
        "execution": {
          "iopub.status.busy": "2021-03-28T12:28:22.834Z",
          "iopub.execute_input": "2021-03-28T12:28:22.846Z",
          "iopub.status.idle": "2021-03-28T12:28:23.067Z",
          "shell.execute_reply": "2021-03-28T12:28:23.077Z"
        }
      }
    },
    {
      "cell_type": "markdown",
      "source": [
        "> QUESTION (code): We observe a baseline shift in the spectrum. This may be a real signal, or due to a background noise. In the current case, we know it is a background noise, therefore the bottom line should be zero. In the next cell, write some code to remove the baseline. "
      ],
      "metadata": {
        "collapsed": false
      }
    },
    {
      "cell_type": "code",
      "source": [
        "# Remove noise"
      ],
      "outputs": [],
      "execution_count": 0,
      "metadata": {
        "collapsed": true
      }
    },
    {
      "cell_type": "markdown",
      "source": [
        "> QUESTION: where does this noise come from? How to reduce it experimentally? How to measure it to properly discard it, if it was not constant ?*"
      ],
      "metadata": {
        "collapsed": false
      }
    },
    {
      "cell_type": "markdown",
      "source": [
        "#### Exercise 2\n",
        "\n",
        "> QUESTION: in emission spectroscopy, assuming that my spectrum is properly calibrated, if the measured intensity of a nitrogen line is 2x that of an oxygen line, and if the Einstein coefficients of the two lines are the same, can I derive that the gas sample contains 2x more nitrogen than oxygen? *\n"
      ],
      "metadata": {
        "collapsed": false
      }
    },
    {
      "cell_type": "markdown",
      "source": [],
      "metadata": {
        "nteract": {
          "transient": {
            "deleting": false
          }
        }
      }
    }
  ],
  "metadata": {
    "kernelspec": {
      "display_name": "Python 3 (system-wide)",
      "language": "python",
      "metadata": {
        "cocalc": {
          "description": "Python 3 programming language",
          "priority": 100,
          "url": "https://www.python.org/"
        }
      },
      "name": "python3",
      "resource_dir": "/ext/jupyter/kernels/python3"
    },
    "language_info": {
      "name": "python",
      "version": "3.8.5",
      "mimetype": "text/x-python",
      "codemirror_mode": {
        "name": "ipython",
        "version": 3
      },
      "pygments_lexer": "ipython3",
      "nbconvert_exporter": "python",
      "file_extension": ".py"
    },
    "name": "spectro.ipynb",
    "nteract": {
      "version": "0.28.0"
    }
  },
  "nbformat": 4,
  "nbformat_minor": 4
}
